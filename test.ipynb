{
 "nbformat": 4,
 "nbformat_minor": 0,
 "metadata": {
  "colab": {
   "private_outputs": true,
   "provenance": []
  },
  "kernelspec": {
   "name": "python3",
   "display_name": "Python 3"
  },
  "language_info": {
   "name": "python"
  }
 },
 "cells": [
  {
   "cell_type": "code",
   "source": [
    "!python -m spacy download en_core_web_md\n"
   ],
   "metadata": {
    "id": "WTGEkkgfEKQ6",
    "pycharm": {
     "name": "#%%\n"
    }
   },
   "execution_count": null,
   "outputs": []
  },
  {
   "cell_type": "code",
   "source": [
    "import spacy\n",
    "import random\n",
    "from spacy.tokens import Doc\n",
    "from spacy.training import Example\n",
    "from spacy.pipeline import DependencyParser\n",
    "from typing import List, Tuple\n",
    "\n",
    "PARSER_CONFIG = 'parser.cfg'\n",
    "TRAINING_DATA = [\n",
    "    # ('ALL DAY I LIKE ACTIVE NOT SIT WATCH TV', {\n",
    "    #     'heads':  [1, 7, 3, 3, 3, 6, 3, 6, 7],\n",
    "    #     'deps': ['det',\n",
    "    # 'npadvmod',\n",
    "    # 'nsubj',\n",
    "    # 'ROOT',\n",
    "    # 'acomp',\n",
    "    # 'neg',\n",
    "    # 'conj',\n",
    "    # 'conj',\n",
    "    # 'dobj']\n",
    "    # }),\n",
    "    ('ALL day I LIKE near home', {\n",
    "        'heads': [0, 3, 3, 0, 5, 3],\n",
    "        'deps': ['ROOT', 'nsubj', 'neg', 'conj', 'conj', 'dobj']\n",
    "    })\n",
    "]\n",
    "\n",
    "\n",
    "def create_training_examples(training_data: List[Tuple]) -> List[Example]:\n",
    "    \"\"\" Create list of training examples \"\"\"\n",
    "    examples = []\n",
    "    nlp = spacy.load('en_core_web_md')\n",
    "    for text, annotations in training_data:\n",
    "        print(f\"{text} - {annotations}\")\n",
    "        examples.append(Example.from_dict(nlp(text), annotations))\n",
    "    return examples\n",
    "\n",
    "\n",
    "def save_parser_config(parser: DependencyParser):\n",
    "    print(f\"Save parser config to '{PARSER_CONFIG}' ... \", end='')\n",
    "    parser.to_disk(PARSER_CONFIG)\n",
    "    print(\"DONE\")\n",
    "\n",
    "\n",
    "def load_parser_config(parser: DependencyParser):\n",
    "    print(f\"Load parser config from '{PARSER_CONFIG}' ... \", end='')\n",
    "    parser.from_disk(PARSER_CONFIG)\n",
    "    print(\"DONE\")\n",
    "\n",
    "\n",
    "def main():\n",
    "    nlp = spacy.blank('en')\n",
    "    # Create new parser\n",
    "    parser = nlp.add_pipe('parser', first=True)\n",
    "    for text, annotations in TRAINING_DATA:\n",
    "        for label in annotations['deps']:\n",
    "            if label not in parser.labels:\n",
    "                parser.add_label(label)\n",
    "    print(f\"Added labels: {parser.labels}\")\n",
    "\n",
    "    examples = create_training_examples(TRAINING_DATA)\n",
    "\n",
    "    # Training\n",
    "    # NOTE: The 'lambda: examples' part is mandatory in Spacy 3 - https://spacy.io/usage/v3#migrating-training-python\n",
    "    optimizer = nlp.initialize(lambda: examples)\n",
    "    print(f\"Training ... \", end='')\n",
    "    for i in range(25):\n",
    "        print(f\"{i} \", end='')\n",
    "        random.shuffle(examples)\n",
    "        nlp.update(examples, sgd=optimizer)\n",
    "    print(f\"... DONE\")\n",
    "\n",
    "    save_parser_config(parser)\n",
    "\n",
    "    # I can load parser config to blank model ...\n",
    "    nlp = spacy.blank('en')\n",
    "    parser = nlp.add_pipe('parser')\n",
    "\n",
    "    # ... but I cannot load parser config to already existing model\n",
    "    # Return -> ValueError: could not broadcast input array from shape (106,64) into shape (27,64)\n",
    "    # nlp = spacy.load('en_core_web_md')\n",
    "    # parser = nlp.get_pipe('parser')\n",
    "\n",
    "    load_parser_config(parser)\n",
    "\n",
    "    print(f\"Current pipeline is {nlp.meta['pipeline']}\")\n",
    "\n",
    "    doc = nlp(u'find a high paid job with no degree')\n",
    "    print(f\"Arcs: {[(w.text, w.dep_, w.head.text) for w in doc if w.dep_ != '-']}\")"
   ],
   "metadata": {
    "id": "WHXSNuU_EKJB",
    "pycharm": {
     "name": "#%%\n"
    }
   },
   "execution_count": null,
   "outputs": []
  },
  {
   "cell_type": "code",
   "source": [
    "main()"
   ],
   "metadata": {
    "id": "OyAZSlOwGSMh",
    "pycharm": {
     "name": "#%%\n"
    }
   },
   "execution_count": null,
   "outputs": []
  }
 ]
}